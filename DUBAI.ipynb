{
 "cells": [
  {
   "cell_type": "markdown",
   "metadata": {},
   "source": [
    "Update DUBAI Database"
   ]
  },
  {
   "cell_type": "code",
   "execution_count": 8,
   "metadata": {},
   "outputs": [
    {
     "name": "stdout",
     "output_type": "stream",
     "text": [
      "SQLite error: no such table: countings\n",
      "Exception class is:  <class 'sqlite3.OperationalError'>\n",
      "SQLite traceback: \n",
      "['Traceback (most recent call last):\\n', '  File \"C:\\\\Users\\\\b.todorov\\\\AppData\\\\Local\\\\Temp\\\\ipykernel_7724\\\\2899982625.py\", line 14, in <cell line: 12>\\n    curs.execute(f\\'update countings set Counted = 1 where \"{bin}\" = Bin\\')\\n', 'sqlite3.OperationalError: no such table: countings\\n']\n",
      "Updated Total 0 bins.\n"
     ]
    }
   ],
   "source": [
    "import pandas as pd\n",
    "import sqlite3\n",
    "import traceback\n",
    "import sys\n",
    "\n",
    "df = pd.read_excel(r\"C:\\Users\\b.todorov\\Desktop\\dubai_POST_14-9.XLSX\")\n",
    "db_path = r\"S:\\Warehouse dept\\Inventory control\\Reporting and dashboards\\Bin's Counting DUBAI\\DUBAI\\DATABASE\\countings_dubai.db\"\n",
    "df = df['Storage Bin']\n",
    "conn = sqlite3.connect(db_path)\n",
    "curs = conn.cursor()\n",
    "total = 0\n",
    "try:\n",
    "    for bin in df:\n",
    "        curs.execute(f'update countings set Counted = 1 where \"{bin}\" = Bin')\n",
    "        print(f'Updating DUBAI Database with Bin {bin}')\n",
    "        if len(bin) == 8 and bin.startswith('C'):\n",
    "            total += 1\n",
    "    conn.commit()\n",
    "except sqlite3.Error as err:\n",
    "        print('SQLite error: %s' % (' '.join(err.args)))\n",
    "        print(\"Exception class is: \", err.__class__)\n",
    "        print('SQLite traceback: ')\n",
    "        exc_type, exc_value, exc_tb = sys.exc_info()\n",
    "        print(traceback.format_exception(exc_type, exc_value, exc_tb))\n",
    "\n",
    "curs.close()\n",
    "conn.close()\n",
    "print(f'Updated Total {total} bins.')\n"
   ]
  }
 ],
 "metadata": {
  "kernelspec": {
   "display_name": "Python 3.10.4 ('report')",
   "language": "python",
   "name": "python3"
  },
  "language_info": {
   "codemirror_mode": {
    "name": "ipython",
    "version": 3
   },
   "file_extension": ".py",
   "mimetype": "text/x-python",
   "name": "python",
   "nbconvert_exporter": "python",
   "pygments_lexer": "ipython3",
   "version": "3.10.4"
  },
  "orig_nbformat": 4,
  "vscode": {
   "interpreter": {
    "hash": "dcad3663fffb2cc384642c88b23dc01c946f03d12a112b70691c4c36d255dc94"
   }
  }
 },
 "nbformat": 4,
 "nbformat_minor": 2
}

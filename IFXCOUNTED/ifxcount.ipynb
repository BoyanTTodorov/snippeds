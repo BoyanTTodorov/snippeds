{
 "cells": [
  {
   "cell_type": "code",
   "execution_count": 2,
   "metadata": {},
   "outputs": [],
   "source": [
    "import pandas as pd\n",
    "import sqlite3\n",
    "path_data = r\"C:\\Users\\b.todorov\\Desktop\\USE CMD\\snippeds\\IFXCOUNTED\\data.XLSX\"\n",
    "path_database = r\"S:\\Warehouse dept\\Inventory control\\Reporting and dashboards\\Bin's Counting\\Cycle Counting\\DATABASE\\cycle_couting.db\""
   ]
  },
  {
   "cell_type": "code",
   "execution_count": 3,
   "metadata": {},
   "outputs": [],
   "source": [
    "from operator import index\n",
    "\n",
    "\n",
    "conn = sqlite3.connect(path_database)\n",
    "query = \"\"\"SELECT * FROM JTS2\"\"\"\n",
    "dfdb = pd.read_sql(query, conn)\n",
    "df_bins = pd.read_excel(path_data)"
   ]
  },
  {
   "cell_type": "markdown",
   "metadata": {},
   "source": []
  },
  {
   "cell_type": "code",
   "execution_count": 4,
   "metadata": {},
   "outputs": [
    {
     "name": "stdout",
     "output_type": "stream",
     "text": [
      "50289\n",
      "31857\n"
     ]
    },
    {
     "data": {
      "text/plain": [
       "0    B-D18-004-01.00\n",
       "1    B-D18-004-02.00\n",
       "2    B-D18-004-03.00\n",
       "3    B-D18-006-01.00\n",
       "4    B-D18-006-03.00\n",
       "Name: Storage Bin, dtype: object"
      ]
     },
     "execution_count": 4,
     "metadata": {},
     "output_type": "execute_result"
    }
   ],
   "source": [
    "##Cleaned .xlsx file\n",
    "print(len(df_bins))\n",
    "df_bins = df_bins.drop_duplicates()\n",
    "print(len(df_bins))\n",
    "clean_bins = df_bins[(df_bins['Storage Type'].\n",
    "isin(['B110', 'B300', 'B510', 'B520', 'B500', 'B750'])) \n",
    "& (df_bins['Reason Description'] == 'Cycle Counting')]\n",
    "jts2 = clean_bins[['Storage Bin', '']].reset_index(drop=True)\n",
    "jts2.head()\n"
   ]
  },
  {
   "cell_type": "code",
   "execution_count": 5,
   "metadata": {},
   "outputs": [
    {
     "data": {
      "text/plain": [
       "<pandas.core.groupby.generic.DataFrameGroupBy object at 0x0000027885346680>"
      ]
     },
     "execution_count": 5,
     "metadata": {},
     "output_type": "execute_result"
    }
   ],
   "source": [
    "counted = df_bins.groupby('Posting Date')\n",
    "counted\n"
   ]
  }
 ],
 "metadata": {
  "kernelspec": {
   "display_name": "Python 3.10.4 ('report')",
   "language": "python",
   "name": "python3"
  },
  "language_info": {
   "codemirror_mode": {
    "name": "ipython",
    "version": 3
   },
   "file_extension": ".py",
   "mimetype": "text/x-python",
   "name": "python",
   "nbconvert_exporter": "python",
   "pygments_lexer": "ipython3",
   "version": "3.10.4"
  },
  "orig_nbformat": 4,
  "vscode": {
   "interpreter": {
    "hash": "dcad3663fffb2cc384642c88b23dc01c946f03d12a112b70691c4c36d255dc94"
   }
  }
 },
 "nbformat": 4,
 "nbformat_minor": 2
}

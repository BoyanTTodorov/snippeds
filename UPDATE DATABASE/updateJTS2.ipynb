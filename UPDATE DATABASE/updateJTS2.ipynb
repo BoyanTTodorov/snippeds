{
 "cells": [
  {
   "cell_type": "code",
   "execution_count": 25,
   "metadata": {},
   "outputs": [],
   "source": [
    "import pandas as pd\n",
    "import sqlite3\n",
    "path_bd = r\"S:\\Warehouse dept\\Inventory control\\Reporting and dashboards\\Cycle_Count\\CycleCounting\\DATABASE\\cycle_couting.db\"\n",
    "path_excel = r\"C:\\Users\\b.todorov\\Desktop\\B500.xlsx\""
   ]
  },
  {
   "cell_type": "code",
   "execution_count": 26,
   "metadata": {},
   "outputs": [
    {
     "name": "stdout",
     "output_type": "stream",
     "text": [
      "B-D24-006-02.00 Updated\n",
      "B-D26-027-04.00 Updated\n",
      "B-D26-029-01.00 Updated\n",
      "B-D26-030-01.00 Updated\n"
     ]
    }
   ],
   "source": [
    "df = pd.read_excel(path_excel)\n",
    "conn = sqlite3.connect(path_bd)\n",
    "curs = conn.cursor()\n",
    "for row in df.itertuples():\n",
    "    curs.execute(f'UPDATE JTS2 SET Counted = 0 WHERE \"Storage Bin\" = \"{row[1]}\" AND Type = \"B500\"')\n",
    "    print(row[1]+' Updated')\n",
    "    conn.commit()\n",
    "conn.close()"
   ]
  }
 ],
 "metadata": {
  "kernelspec": {
   "display_name": "Python 3.10.6 ('pyqt5')",
   "language": "python",
   "name": "python3"
  },
  "language_info": {
   "codemirror_mode": {
    "name": "ipython",
    "version": 3
   },
   "file_extension": ".py",
   "mimetype": "text/x-python",
   "name": "python",
   "nbconvert_exporter": "python",
   "pygments_lexer": "ipython3",
   "version": "3.10.6"
  },
  "orig_nbformat": 4,
  "vscode": {
   "interpreter": {
    "hash": "25f15727727aaf7244829897afe4e161bbbc1a4689dd7d770dcd19a689954d69"
   }
  }
 },
 "nbformat": 4,
 "nbformat_minor": 2
}

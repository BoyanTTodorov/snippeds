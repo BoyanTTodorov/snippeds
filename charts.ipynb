{
 "cells": [
  {
   "cell_type": "code",
   "execution_count": null,
   "metadata": {},
   "outputs": [
    {
     "ename": "",
     "evalue": "",
     "output_type": "error",
     "traceback": [
      "\u001b[1;31mRunning cells with 'Python 3.10.4 ('report')' requires ipykernel package.\n",
      "\u001b[1;31mRun the following command to install 'ipykernel' into the Python environment. \n",
      "\u001b[1;31mCommand: 'conda install -n report ipykernel --update-deps --force-reinstall'"
     ]
    }
   ],
   "source": [
    "import sqlite3\n",
    "import matplotlib.pyplot as plt\n",
    "from matplotlib.backends.backend_pdf import PdfPages\n",
    "\n",
    "# Pie chart, where the slices will be ordered and plotted counter-clockwise:\n",
    "# plt.suptitle(\"This Main Title is Nicely Formatted\", fontsize=16)\n",
    "\n",
    "# SELECT COUNT(Result) FROM (SELECT \"1\",\"2\",\"3\",\"4\",\"5\",\"6\",\"7\",\"8\",\"9\",\"10\",\n",
    "#         \"11\",\"12\",\"13\",\"14\",\"15\",\"16\",\"17\",\"18\",\"19\",\"20\",\"21\",\"22\",\n",
    "#         \"23\",\"24\",\"25\",\"26\",\"27\",\"28\",\"29\",\"30\",\"31\",\"32\",\"33\",\"34\",\n",
    "#         \"35\",\"36\",\"37\",\"38\",\"39\",\"40\",\"41\",\"42\",\"43\",\"44\",\"45\",\"46\",\n",
    "#         \"47\",\"48\",\"49\",\"50\",\"51\",\"52\",\n",
    "#         \"1\"+\"2\"+\"3\"+\"4\"+\"5\"+\"6\"+\"7\"+\"8\"+\"9\"+\"10\"+\"11\"+\"12\"+\"13\"+\"14\"\n",
    "#         +\"15\"+\"16\"+\"17\"+\"18\"+\"19\"+\"20\"+\"21\"+\"22\"+\"23\"+\"24\"+\"25\"+\"26\"+\n",
    "#         \"27\"+\"28\"+\"29\"+\"30\"+\"31\"+\"32\"+\"33\"+\"34\"+\"35\"+\"36\"+\"37\"+\"38\"+\"39\"\n",
    "#         +\"40\"+\"41\"+\"42\"+\"43\"+\"44\"+\"45\"+\"46\"+\"47\"+\"48\"+\"49\"+\"50\"+\"51\"+\"52\" \n",
    "#         AS Result FROM MKI) WHERE Result > 0;\n",
    "\n",
    "path = r\"S:\\Warehouse dept\\Inventory control\\Reporting and dashboards\\Bin's Counting\\Cycle Counting\\DATABASE\\cycle_couting.db\"\n",
    "\n",
    "all_warehouses = {'MKI':222380, 'JTS1':139082, 'JTS2':163962}\n",
    "\n",
    "def get_data_from_database(warehouse):\n",
    "        counted  = []\n",
    "\n",
    "        query = f'''SELECT COUNT(Result) (SELECT \"1\",\"2\",\"3\",\"4\",\"5\",\"6\",\"7\",\"8\",\"9\",\"10\",\n",
    "        \"11\",\"12\",\"13\",\"14\",\"15\",\"16\",\"17\",\"18\",\"19\",\"20\",\"21\",\"22\",\n",
    "        \"23\",\"24\",\"25\",\"26\",\"27\",\"28\",\"29\",\"30\",\"31\",\"32\",\"33\",\"34\",\n",
    "        \"35\",\"36\",\"37\",\"38\",\"39\",\"40\",\"41\",\"42\",\"43\",\"44\",\"45\",\"46\",\n",
    "        \"47\",\"48\",\"49\",\"50\",\"51\",\"52\",\n",
    "        \"1\"+\"2\"+\"3\"+\"4\"+\"5\"+\"6\"+\"7\"+\"8\"+\"9\"+\"10\"+\"11\"+\"12\"+\"13\"+\"14\"\n",
    "        +\"15\"+\"16\"+\"17\"+\"18\"+\"19\"+\"20\"+\"21\"+\"22\"+\"23\"+\"24\"+\"25\"+\"26\"+\n",
    "        \"27\"+\"28\"+\"29\"+\"30\"+\"31\"+\"32\"+\"33\"+\"34\"+\"35\"+\"36\"+\"37\"+\"38\"+\"39\"\n",
    "        +\"40\"+\"41\"+\"42\"+\"43\"+\"44\"+\"45\"+\"46\"+\"47\"+\"48\"+\"49\"+\"50\"+\"51\"+\"52\" \n",
    "        AS Result from {warehouse}) WHERE Result > 0;'''\n",
    "        \n",
    "        conn = sqlite3.connect(path)\n",
    "        curs = conn.cursor(query)\n",
    "        counted = curs.execute()\n",
    "        print(counted[0])\n",
    "        curs.close()\n",
    "        conn.close()\n",
    "get_data_from_database(\"MKI\")\n",
    "\n",
    "def plotGraph(lbl_counted:str, lbl_notcounted:str, qty_counted:float, main_label:str):\n",
    "        fig = plt.figure()\n",
    "        ### Plotting arrangements ###\n",
    "        labels = lbl_counted, lbl_notcounted\n",
    "        sizes = [qty_counted, 100-qty_counted]\n",
    "        explode = (0, 0.1)  # Only \"explode\" the 2nd slice\n",
    "        fig, ax = plt.subplots()\n",
    "        fig.suptitle(main_label, fontsize=16)\n",
    "        ax.pie(sizes, explode=explode, labels=labels, autopct='%1.1f%%',\n",
    "        shadow=True, startangle=90)\n",
    "        ax.axis('equal')  # Equal aspect ratio ensures that pie is drawn as a circle.\n",
    "        return fig\n",
    "\n",
    "\n",
    "\n",
    "from matplotlib.backends.backend_pdf import PdfPages\n",
    "\n",
    "plot1 = plotGraph('Counted', 'Not Counted', 40.50, 'MKI')\n",
    "plot2 = plotGraph('Counted', 'Not Counted', 45.50, 'JTS1')\n",
    "plot3 = plotGraph('Counted', 'Not Counted', 50.50, 'JTS2')\n",
    "\n",
    "pp = PdfPages('foo.pdf')\n",
    "pp.savefig(plot1)\n",
    "pp.savefig(plot2)\n",
    "pp.savefig(plot3)\n",
    "pp.close()\n",
    "\n"
   ]
  }
 ],
 "metadata": {
  "kernelspec": {
   "display_name": "Python 3.10.4 ('report')",
   "language": "python",
   "name": "python3"
  },
  "language_info": {
   "codemirror_mode": {
    "name": "ipython",
    "version": 3
   },
   "file_extension": ".py",
   "mimetype": "text/x-python",
   "name": "python",
   "nbconvert_exporter": "python",
   "pygments_lexer": "ipython3",
   "version": "3.10.8"
  },
  "orig_nbformat": 4,
  "vscode": {
   "interpreter": {
    "hash": "dcad3663fffb2cc384642c88b23dc01c946f03d12a112b70691c4c36d255dc94"
   }
  }
 },
 "nbformat": 4,
 "nbformat_minor": 2
}

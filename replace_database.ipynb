{
 "cells": [
  {
   "cell_type": "markdown",
   "metadata": {},
   "source": [
    "Replacing values into database"
   ]
  },
  {
   "cell_type": "code",
   "execution_count": 7,
   "metadata": {},
   "outputs": [],
   "source": [
    "import pandas as pd\n",
    "import sqlite3\n",
    "\n",
    "path_excel = r\"C:/Users/b.todorov/Desktop/Blocked Bins/ALLB.XLSX\"\n",
    "df = pd.read_excel(path_excel)\n",
    "path_db = r\"C:/Users/b.todorov/Desktop/Bin's Counting/Cycle Counting/DATABASE/cycle_couting.db\"\n",
    "\n"
   ]
  },
  {
   "cell_type": "code",
   "execution_count": null,
   "metadata": {},
   "outputs": [],
   "source": [
    "df = df.fillna(0)\n",
    "conn = sqlite3.connect(path_db)\n",
    "df.to_sql('JTS2', conn, index= True, if_exists='replace')"
   ]
  },
  {
   "cell_type": "code",
   "execution_count": null,
   "metadata": {},
   "outputs": [],
   "source": [
    "import os\n",
    "import pandas as pd\n",
    "import sqlite3\n",
    "from datetime import datetime\n",
    "\n",
    "\n",
    "start = datetime.now()\n",
    "path_db = r\"C:/Users/b.todorov/Desktop/Bin's Counting/Cycle Counting/DATABASE/cycle_couting.db\"\n",
    "path_folder = r\"C:/Users/b.todorov/Desktop/POST_EXCEL\"\n",
    "\n",
    "# folder = [file for file in os.listdir(path_folder) if file.endswith('.xlsx') or file.endswith('.XLSX')]\n",
    "# df = pd.concat([pd.read_excel(path_folder+'\\/' + file) for file in folder], ignore_index=True)\n",
    "# print(datetime.now() - start)\n"
   ]
  },
  {
   "cell_type": "code",
   "execution_count": null,
   "metadata": {},
   "outputs": [],
   "source": [
    "clean_df = pd.DataFrame()\n",
    "clean_df = df[\"Storage Bin\"]\n",
    "\n",
    "path_db = r\"C:/Users/b.todorov/Desktop/Bin's Counting/Cycle Counting/DATABASE/cycle_couting.db\"\n",
    "conn = sqlite3.connect(path_db)\n",
    "curs = conn.cursor()\n",
    "count = 0\n",
    "for row in clean_df.itertuples():\n",
    "    curs.execute(f'''UPDATE JTS2 SET \"{row[2]}\" = 1 WHERE \"{row[1]}\" = \"Storage Bin\"''')\n",
    "    print(count)\n",
    "    count+=1\n",
    "conn.commit()"
   ]
  }
 ],
 "metadata": {
  "kernelspec": {
   "display_name": "Python 3.10.4 ('report')",
   "language": "python",
   "name": "python3"
  },
  "language_info": {
   "codemirror_mode": {
    "name": "ipython",
    "version": 3
   },
   "file_extension": ".py",
   "mimetype": "text/x-python",
   "name": "python",
   "nbconvert_exporter": "python",
   "pygments_lexer": "ipython3",
   "version": "3.10.8"
  },
  "orig_nbformat": 4,
  "vscode": {
   "interpreter": {
    "hash": "dcad3663fffb2cc384642c88b23dc01c946f03d12a112b70691c4c36d255dc94"
   }
  }
 },
 "nbformat": 4,
 "nbformat_minor": 2
}
